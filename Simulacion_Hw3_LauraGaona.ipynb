{
 "cells": [
  {
   "cell_type": "markdown",
   "metadata": {},
   "source": [
    "# Simulacion Hw 3 Laura Gaona\n",
    "### https://github.com/LauraGaona/LauGao.git\n",
    "\n",
    "###  Librerias: \n"
   ]
  },
  {
   "cell_type": "code",
   "execution_count": null,
   "metadata": {},
   "outputs": [],
   "source": [
    "from sympy import symbols\n",
    "import matplotlib.pyplot as plt\n",
    "import numpy as np\n",
    "import random\n",
    "from random import randint\n",
    "import pylab as py\n",
    "from scipy import stats\n",
    "import array\n",
    "import math\n",
    "from itertools import product\n",
    "from numpy.linalg import det\n",
    "from operator import mul, sub\n",
    "import scipy.integrate as integrate\n"
   ]
  },
  {
   "cell_type": "markdown",
   "metadata": {},
   "source": [
    "### 1. Monte Carlo Integration\n",
    "$\\int_0^1 e^{-x^2} \t\\approx 0,75$"
   ]
  },
  {
   "cell_type": "code",
   "execution_count": null,
   "metadata": {},
   "outputs": [],
   "source": [
    "def f (n):\n",
    "    x=np.random.uniform(0,1,n)\n",
    "    y=np.random.uniform(0,1,n)\n",
    "    hits=sum(y<=nasty(x))\n",
    "    return hits/float(n)"
   ]
  },
  {
   "cell_type": "code",
   "execution_count": null,
   "metadata": {},
   "outputs": [],
   "source": [
    "def nasty (x):\n",
    "    return np.exp(-x**2)\n"
   ]
  },
  {
   "cell_type": "code",
   "execution_count": null,
   "metadata": {},
   "outputs": [],
   "source": [
    "f(10000)"
   ]
  },
  {
   "cell_type": "code",
   "execution_count": null,
   "metadata": {},
   "outputs": [],
   "source": [
    "res=[]\n",
    "for i in range (10):\n",
    "    res.append(f(10000))\n",
    "res=np.array(res)\n"
   ]
  },
  {
   "cell_type": "code",
   "execution_count": null,
   "metadata": {},
   "outputs": [],
   "source": [
    "np.std(res)"
   ]
  },
  {
   "cell_type": "markdown",
   "metadata": {},
   "source": [
    "## 2.1  Pseudorandom number generators with linear structures "
   ]
  },
  {
   "cell_type": "markdown",
   "metadata": {},
   "source": [
    " [ 137., 553., 990., 881., 646., 618., 323., 832., 897., 230., 181., 432., 44., 925., 525., 695., 367., 711., 974., 274.]  "
   ]
  },
  {
   "cell_type": "markdown",
   "metadata": {},
   "source": [
    "Despues de utilizar algunas encuaciones de  congruencias y con ayuda del computador llegamos a m=1023 , a=997 y c=23"
   ]
  },
  {
   "cell_type": "code",
   "execution_count": null,
   "metadata": {},
   "outputs": [],
   "source": [
    "def Rng(m,a,c,x0,n):\n",
    "    x0=x0\n",
    "    for i in range(n):\n",
    "        x0=(a*x0+c)%m\n",
    "        print (x0)\n",
    "Rng(1023,997,23,137,20) "
   ]
  },
  {
   "cell_type": "markdown",
   "metadata": {},
   "source": [
    "## 2.2  Test $x^2$"
   ]
  },
  {
   "cell_type": "code",
   "execution_count": null,
   "metadata": {},
   "outputs": [],
   "source": [
    "datos=np.loadtxt(\"Sequence.txt\")\n",
    "cantidad=datos.shape[0]\n",
    "m=2\n",
    "x=0\n",
    "y=0\n",
    "for i in datos:\n",
    "    if i>0.5:\n",
    "        x+=1\n",
    "    else:\n",
    "        y+=1\n",
    "\n",
    "\n",
    "print (x)\n",
    "print (y)\n",
    "chi=(x-50170)**2/50170+(y-50000)**2/50000\n",
    "print (chi)"
   ]
  },
  {
   "cell_type": "markdown",
   "metadata": {},
   "source": [
    "### Para estos datos el test de $x^2$ con un grado de libertad esta en el intervalo de (0.45,1.323) .Es decir p esta entre el 50% al 75%.No es el mejor escenario , pero pasa el test ."
   ]
  }
 ],
 "metadata": {
  "kernelspec": {
   "display_name": "Python 3",
   "language": "python",
   "name": "python3"
  },
  "language_info": {
   "codemirror_mode": {
    "name": "ipython",
    "version": 3
   },
   "file_extension": ".py",
   "mimetype": "text/x-python",
   "name": "python",
   "nbconvert_exporter": "python",
   "pygments_lexer": "ipython3",
   "version": "3.7.6"
  }
 },
 "nbformat": 4,
 "nbformat_minor": 4
}
