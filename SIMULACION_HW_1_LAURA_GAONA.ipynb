{
 "cells": [
  {
   "cell_type": "markdown",
   "metadata": {},
   "source": [
    "# Simulación_Hw_1_Laura Gaona   "
   ]
  },
  {
   "cell_type": "markdown",
   "metadata": {},
   "source": [
    "###  Librerias: "
   ]
  },
  {
   "cell_type": "code",
   "execution_count": null,
   "metadata": {},
   "outputs": [],
   "source": [
    "from sympy import symbols\n",
    "import matplotlib.pyplot as plt\n",
    "import numpy as np\n",
    "import random\n",
    "from random import randint\n",
    "import matplotlib.pyplot as plt\n",
    "import pylab as py\n",
    "\n",
    "\n",
    "%matplotlib inline\n",
    "%pylab inline"
   ]
  },
  {
   "cell_type": "markdown",
   "metadata": {},
   "source": [
    "### Función :"
   ]
  },
  {
   "cell_type": "code",
   "execution_count": null,
   "metadata": {},
   "outputs": [],
   "source": [
    "def funcion (f):\n",
    "    if 0<=f<1/2:\n",
    "        r=2*f\n",
    "    else:\n",
    "        r=2*f-1\n",
    "    return(r)"
   ]
  },
  {
   "cell_type": "markdown",
   "metadata": {},
   "source": [
    "#### Primera semilla :"
   ]
  },
  {
   "cell_type": "code",
   "execution_count": null,
   "metadata": {},
   "outputs": [],
   "source": [
    "np.random.seed(10)\n",
    "a=np.zeros(100)\n",
    "a[0]=np.random.uniform(0,1,1) \n",
    "for i in range(99):\n",
    "    a[i+1]=funcion(a[i])\n",
    "    #print(a[i])"
   ]
  },
  {
   "cell_type": "markdown",
   "metadata": {},
   "source": [
    "#### Segunda semilla:\n"
   ]
  },
  {
   "cell_type": "code",
   "execution_count": null,
   "metadata": {},
   "outputs": [],
   "source": [
    "np.random.seed(9)\n",
    "b=np.zeros(100)\n",
    "b[0]=np.random.uniform(0,1,1)\n",
    "for i in range(99):\n",
    "    b[i+1]=funcion(b[i])\n",
    "    #print(b[i])"
   ]
  },
  {
   "cell_type": "markdown",
   "metadata": {},
   "source": [
    "#### Tercera semlla:\n"
   ]
  },
  {
   "cell_type": "code",
   "execution_count": null,
   "metadata": {},
   "outputs": [],
   "source": [
    "np.random.seed(8)\n",
    "c=np.zeros(100)\n",
    "c[0]=np.random.uniform(0,1,1)\n",
    "for i in range(99):\n",
    "    c[i+1]=funcion(c[i])\n",
    "   # print(c[i])"
   ]
  },
  {
   "cell_type": "markdown",
   "metadata": {},
   "source": [
    "#### Cuarta semilla :\n"
   ]
  },
  {
   "cell_type": "code",
   "execution_count": null,
   "metadata": {},
   "outputs": [],
   "source": [
    "np.random.seed(7)\n",
    "d=np.zeros(100)\n",
    "d[0]=np.random.uniform(0,1,1)\n",
    "for i in range(99):\n",
    "    d[i+1]=funcion(d[i])\n",
    "    #print(d[i])"
   ]
  },
  {
   "cell_type": "markdown",
   "metadata": {},
   "source": [
    "#### Quinta semilla:"
   ]
  },
  {
   "cell_type": "code",
   "execution_count": null,
   "metadata": {},
   "outputs": [],
   "source": [
    "np.random.seed(6)\n",
    "e=np.zeros(100)\n",
    "e[0]=np.random.uniform(0,1,1)\n",
    "for i in range(99):\n",
    "    e[i+1]=funcion(e[i])\n",
    "    #print(e[i])"
   ]
  },
  {
   "cell_type": "markdown",
   "metadata": {},
   "source": [
    "### Graficas con semillas\n"
   ]
  },
  {
   "cell_type": "code",
   "execution_count": null,
   "metadata": {},
   "outputs": [],
   "source": [
    "title(\"Orbits\")\n",
    "plt.plot(a[:99],a[1:])\n",
    "plt.plot(b[:99],b[1:])\n",
    "plt.plot(c[:99],c[1:])\n",
    "plt.plot(d[:99],d[1:])\n",
    "plt.plot(e[:99],e[1:])\n",
    " "
   ]
  },
  {
   "cell_type": "markdown",
   "metadata": {},
   "source": [
    "### Graficas fijada en $ x_0=  \\frac{1}{9}$"
   ]
  },
  {
   "cell_type": "code",
   "execution_count": null,
   "metadata": {},
   "outputs": [],
   "source": [
    "N=np.zeros(100)\n",
    "N[0]=1/9 \n",
    "for i in range(99):\n",
    "    N[i+1]=funcion(N[i])\n",
    "plt.plot(N[:99],N[1:])\n"
   ]
  }
 ],
 "metadata": {
  "kernelspec": {
   "display_name": "Python 3",
   "language": "python",
   "name": "python3"
  },
  "language_info": {
   "codemirror_mode": {
    "name": "ipython",
    "version": 3
   },
   "file_extension": ".py",
   "mimetype": "text/x-python",
   "name": "python",
   "nbconvert_exporter": "python",
   "pygments_lexer": "ipython3",
   "version": "3.7.6"
  }
 },
 "nbformat": 4,
 "nbformat_minor": 4
}
